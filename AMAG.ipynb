{
 "cells": [
  {
   "cell_type": "code",
   "execution_count": null,
   "id": "c66b6fcd-4b2f-46ad-9370-0613afe0ad7b",
   "metadata": {},
   "outputs": [],
   "source": [
    "# uncomment as necessary\n",
    "#!pip3 install -r requirements.txt\n",
    "#!pip3 install pylabel\n",
    "# !pip3 install wandb"
   ]
  },
  {
   "cell_type": "code",
   "execution_count": null,
   "id": "67394440-1260-4203-8f48-0d686dd2af7e",
   "metadata": {},
   "outputs": [],
   "source": [
    "# this must be run from the command line and the wandb key inserted\n",
    "# !python3 -m wandb login"
   ]
  },
  {
   "cell_type": "code",
   "execution_count": null,
   "id": "f1212b4a-fcce-4ace-a993-6b744febb826",
   "metadata": {},
   "outputs": [],
   "source": [
    "import json\n",
    "from IPython import display\n",
    "import os\n",
    "from pylabel import importer\n",
    "import shutil"
   ]
  },
  {
   "cell_type": "code",
   "execution_count": null,
   "id": "31201cb4-6e52-46a3-b7da-9a5fb4833a01",
   "metadata": {},
   "outputs": [],
   "source": [
    "annotations_location = './Dataset/annotations/instances_val2017.json'\n",
    "images_location = './Dataset/val2017'\n",
    "\n",
    "with open(annotations_location) as json_file:\n",
    "    coco_val = json.load(json_file)"
   ]
  },
  {
   "cell_type": "code",
   "execution_count": null,
   "id": "4e07e3ad-402d-4e83-a276-224a32745deb",
   "metadata": {
    "scrolled": true
   },
   "outputs": [],
   "source": [
    "# display.Image(os.path.join('.',images_location,coco_val['images'][1500]['file_name']))"
   ]
  },
  {
   "cell_type": "code",
   "execution_count": null,
   "id": "2923c2f6-b706-4704-ae94-e6545623a24c",
   "metadata": {
    "scrolled": true
   },
   "outputs": [],
   "source": [
    "# careful this assumes annotations json is in same directory as images due to bug in pylabel\n",
    "dataset = importer.ImportCoco(\"Dataset/val2017/instances_val2017.json\", path_to_images=\"\", name=\"val2017coco\")\n",
    "dataset.df.head(5)"
   ]
  },
  {
   "cell_type": "code",
   "execution_count": null,
   "id": "417bee6b-f32f-4d96-a2cc-82c17b0d3f66",
   "metadata": {},
   "outputs": [],
   "source": [
    "#random state set at 42, the meaning of life\n",
    "dataset.splitter.GroupShuffleSplit(train_pct=.9, test_pct=0.1, val_pct=0,random_state=42)"
   ]
  },
  {
   "cell_type": "code",
   "execution_count": null,
   "id": "9003e04c-0ef7-4d59-947a-8b7ed664b7f8",
   "metadata": {},
   "outputs": [],
   "source": [
    "dataset.export.ExportToYoloV5(output_path='Dataset_yolo/labels',yaml_file='dataset_yolo.yaml', copy_images=True, use_splits=True)"
   ]
  },
  {
   "cell_type": "code",
   "execution_count": null,
   "id": "b80e8df2-23ce-47ec-b149-a24f163972b0",
   "metadata": {},
   "outputs": [],
   "source": [
    "# copy custom yaml file into Yolo dataset directory\n",
    "shutil.copyfile('dataset_yolo.yaml', 'Dataset_yolo/dataset_yolo.yaml')"
   ]
  },
  {
   "cell_type": "code",
   "execution_count": null,
   "id": "a09efe9c-ca7e-4255-b900-da90af16fe78",
   "metadata": {},
   "outputs": [],
   "source": [
    "# training\n",
    "!python3 train.py --workers 4 --device cpu --epochs 20 --batch-size 4 --data Dataset_yolo/dataset_yolo.yaml --img 640 640 --cfg cfg/training/yolov7-custom.yaml --weights 'weights/yolov7.pt' --name yolov7-custom --hyp data/hyp.scratch.custom.yaml"
   ]
  },
  {
   "cell_type": "code",
   "execution_count": null,
   "id": "2f397b21-165a-4790-b0d4-b693c32d42cd",
   "metadata": {},
   "outputs": [],
   "source": [
    "# inference\n",
    "!python3 detect.py --weights weights/yolov7.pt --conf 0.25 --img-size 640 --source Dataset/val2017/000000037777.jpg"
   ]
  },
  {
   "cell_type": "code",
   "execution_count": null,
   "id": "ad490755-4014-4628-984d-8c6a00571a3f",
   "metadata": {},
   "outputs": [],
   "source": []
  }
 ],
 "metadata": {
  "kernelspec": {
   "display_name": "Python 3 (ipykernel)",
   "language": "python",
   "name": "python3"
  },
  "language_info": {
   "codemirror_mode": {
    "name": "ipython",
    "version": 3
   },
   "file_extension": ".py",
   "mimetype": "text/x-python",
   "name": "python",
   "nbconvert_exporter": "python",
   "pygments_lexer": "ipython3",
   "version": "3.9.6"
  }
 },
 "nbformat": 4,
 "nbformat_minor": 5
}
